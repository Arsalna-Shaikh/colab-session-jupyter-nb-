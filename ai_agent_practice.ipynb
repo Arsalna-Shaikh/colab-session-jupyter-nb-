{
  "nbformat": 4,
  "nbformat_minor": 0,
  "metadata": {
    "colab": {
      "provenance": [],
      "authorship_tag": "ABX9TyMafx/ZTxaKibCVn7iwtPLi",
      "include_colab_link": true
    },
    "kernelspec": {
      "name": "python3",
      "display_name": "Python 3"
    },
    "language_info": {
      "name": "python"
    }
  },
  "cells": [
    {
      "cell_type": "markdown",
      "metadata": {
        "id": "view-in-github",
        "colab_type": "text"
      },
      "source": [
        "<a href=\"https://colab.research.google.com/github/Arsalna-Shaikh/colab-session-jupyter-nb-/blob/main/ai_agent_practice.ipynb\" target=\"_parent\"><img src=\"https://colab.research.google.com/assets/colab-badge.svg\" alt=\"Open In Colab\"/></a>"
      ]
    },
    {
      "cell_type": "code",
      "execution_count": null,
      "metadata": {
        "colab": {
          "base_uri": "https://localhost:8080/"
        },
        "id": "nyCzZuJnu22Y",
        "outputId": "5b798673-dc47-493e-db63-2ab14d725a34"
      },
      "outputs": [
        {
          "output_type": "stream",
          "name": "stdout",
          "text": [
            "Chatbot is running! Type 'bye' to exit.\n",
            "You: hi\n",
            "Bot: Hello! How can I help you today?\n",
            "You: how are you \n",
            "Bot: I'm just a bot, but I'm doing fine!\n",
            "You: what is your name \n",
            "Bot: I am your friendly chatbot agent.\n"
          ]
        }
      ],
      "source": [
        "class ChatbotAgent:\n",
        "    def __init__(self):\n",
        "        self.responses = {\n",
        "            \"hi\": \"Hello! How can I help you today?\",\n",
        "            \"hello\": \"Hi there! What can I do for you?\",\n",
        "            \"bye\": \"Goodbye! Have a great day!\",\n",
        "            \"how are you\": \"I'm just a bot, but I'm doing fine!\",\n",
        "            \"what is your name\": \"I am your friendly chatbot agent.\"\n",
        "        }\n",
        "\n",
        "    def perceive(self, user_input):\n",
        "        return user_input.lower()\n",
        "\n",
        "    def decide(self, message):\n",
        "        for key in self.responses:\n",
        "            if key in message:\n",
        "                return self.responses[key]\n",
        "        return \"Sorry, I don't understand that.\"\n",
        "\n",
        "    def act(self, response):\n",
        "        print(\"Bot:\", response)\n",
        "\n",
        "    def run(self):\n",
        "        print(\"Chatbot is running! Type 'bye' to exit.\")\n",
        "        while True:\n",
        "            user_input = input(\"You: \")\n",
        "            perceived_message = self.perceive(user_input)\n",
        "            decision = self.decide(perceived_message)\n",
        "            self.act(decision)\n",
        "            if \"bye\" in perceived_message:\n",
        "                break\n",
        "\n",
        "# Run the chatbot\n",
        "bot = ChatbotAgent()\n",
        "bot.run()\n"
      ]
    },
    {
      "cell_type": "code",
      "source": [],
      "metadata": {
        "id": "5FjAlfTUvC0j"
      },
      "execution_count": null,
      "outputs": []
    }
  ]
}